{
  "cells": [
    {
      "cell_type": "markdown",
      "metadata": {
        "id": "view-in-github",
        "colab_type": "text"
      },
      "source": [
        "<a href=\"https://colab.research.google.com/github/rry123/Machine-Learning/blob/main/weighterd_KNN.ipynb\" target=\"_parent\"><img src=\"https://colab.research.google.com/assets/colab-badge.svg\" alt=\"Open In Colab\"/></a>"
      ]
    },
    {
      "cell_type": "code",
      "execution_count": null,
      "metadata": {
        "colab": {
          "base_uri": "https://localhost:8080/"
        },
        "id": "rwBpGwvEG-fC",
        "outputId": "d9427dd5-b4be-4c75-c250-3c7573f4feb1"
      },
      "outputs": [
        {
          "output_type": "stream",
          "name": "stdout",
          "text": [
            "Collecting ucimlrepo\n",
            "  Downloading ucimlrepo-0.0.6-py3-none-any.whl (8.0 kB)\n",
            "Installing collected packages: ucimlrepo\n",
            "Successfully installed ucimlrepo-0.0.6\n"
          ]
        }
      ],
      "source": [
        "pip install ucimlrepo"
      ]
    },
    {
      "cell_type": "code",
      "execution_count": null,
      "metadata": {
        "id": "ACUQDDW9HxTE",
        "colab": {
          "base_uri": "https://localhost:8080/"
        },
        "outputId": "dda70c2e-c181-41d8-bc4d-14a9c1b2e146"
      },
      "outputs": [
        {
          "output_type": "execute_result",
          "data": {
            "text/plain": [
              "(32, 57)"
            ]
          },
          "metadata": {},
          "execution_count": 3
        }
      ],
      "source": [
        "from ucimlrepo import fetch_ucirepo\n",
        "import pandas as pd\n",
        "\n",
        "# fetch dataset\n",
        "lung_cancer = fetch_ucirepo(id=62)\n",
        "\n",
        "# # data (as pandas dataframes)\n",
        "# X = lung_cancer.data.features\n",
        "# y = lung_cancer.data.targets\n",
        "\n",
        "# # metadata\n",
        "# print(lung_cancer.metadata)\n",
        "\n",
        "# # variable information\n",
        "# print(lung_cancer.variables)\n",
        "\n",
        "data = lung_cancer.data.original;\n",
        "data.shape\n"
      ]
    },
    {
      "cell_type": "code",
      "execution_count": null,
      "metadata": {
        "id": "tKjgQ2xaH9v7",
        "colab": {
          "base_uri": "https://localhost:8080/"
        },
        "outputId": "13557d5c-3fc4-4081-8e84-85c66196b266"
      },
      "outputs": [
        {
          "output_type": "stream",
          "name": "stdout",
          "text": [
            "   class  Attribute1  Attribute2  Attribute3  Attribute4  Attribute5  \\\n",
            "0      1           0           3           0         NaN           0   \n",
            "1      1           0           3           3         1.0           0   \n",
            "2      1           0           3           3         2.0           0   \n",
            "3      1           0           2           3         2.0           1   \n",
            "4      1           0           3           2         1.0           1   \n",
            "\n",
            "   Attribute6  Attribute7  Attribute8  Attribute9  ...  Attribute47  \\\n",
            "0           2           2           2           1  ...            2   \n",
            "1           3           1           3           1  ...            2   \n",
            "2           3           3           3           1  ...            2   \n",
            "3           3           3           3           1  ...            2   \n",
            "4           3           3           3           2  ...            2   \n",
            "\n",
            "   Attribute48  Attribute49  Attribute50  Attribute51  Attribute52  \\\n",
            "0            2            2            2            2            1   \n",
            "1            2            2            2            2            2   \n",
            "2            2            2            2            2            2   \n",
            "3            2            2            2            2            2   \n",
            "4            2            2            2            2            2   \n",
            "\n",
            "   Attribute53  Attribute54  Attribute55  Attribute56  \n",
            "0            1            1            2            2  \n",
            "1            2            1            2            2  \n",
            "2            2            2            1            2  \n",
            "3            2            2            2            2  \n",
            "4            2            1            2            2  \n",
            "\n",
            "[5 rows x 57 columns]\n"
          ]
        }
      ],
      "source": [
        "df = pd.DataFrame(data)\n",
        "\n",
        "print(df.head())"
      ]
    },
    {
      "cell_type": "code",
      "execution_count": null,
      "metadata": {
        "id": "pYa6bFVbIEQ0",
        "colab": {
          "base_uri": "https://localhost:8080/"
        },
        "outputId": "20df0e9c-1141-47b4-ac72-5de95ec62ece"
      },
      "outputs": [
        {
          "output_type": "stream",
          "name": "stdout",
          "text": [
            "Index(['class', 'Attribute1', 'Attribute2', 'Attribute3', 'Attribute4',\n",
            "       'Attribute5', 'Attribute6', 'Attribute7', 'Attribute8', 'Attribute9',\n",
            "       'Attribute10', 'Attribute11', 'Attribute12', 'Attribute13',\n",
            "       'Attribute14', 'Attribute15', 'Attribute16', 'Attribute17',\n",
            "       'Attribute18', 'Attribute19', 'Attribute20', 'Attribute21',\n",
            "       'Attribute22', 'Attribute23', 'Attribute24', 'Attribute25',\n",
            "       'Attribute26', 'Attribute27', 'Attribute28', 'Attribute29',\n",
            "       'Attribute30', 'Attribute31', 'Attribute32', 'Attribute33',\n",
            "       'Attribute34', 'Attribute35', 'Attribute36', 'Attribute37',\n",
            "       'Attribute38', 'Attribute39', 'Attribute40', 'Attribute41',\n",
            "       'Attribute42', 'Attribute43', 'Attribute44', 'Attribute45',\n",
            "       'Attribute46', 'Attribute47', 'Attribute48', 'Attribute49',\n",
            "       'Attribute50', 'Attribute51', 'Attribute52', 'Attribute53',\n",
            "       'Attribute54', 'Attribute55', 'Attribute56'],\n",
            "      dtype='object')\n",
            "class          0\n",
            "Attribute1     0\n",
            "Attribute2     0\n",
            "Attribute3     0\n",
            "Attribute4     4\n",
            "Attribute5     0\n",
            "Attribute6     0\n",
            "Attribute7     0\n",
            "Attribute8     0\n",
            "Attribute9     0\n",
            "Attribute10    0\n",
            "Attribute11    0\n",
            "Attribute12    0\n",
            "Attribute13    0\n",
            "Attribute14    0\n",
            "Attribute15    0\n",
            "Attribute16    0\n",
            "Attribute17    0\n",
            "Attribute18    0\n",
            "Attribute19    0\n",
            "Attribute20    0\n",
            "Attribute21    0\n",
            "Attribute22    0\n",
            "Attribute23    0\n",
            "Attribute24    0\n",
            "Attribute25    0\n",
            "Attribute26    0\n",
            "Attribute27    0\n",
            "Attribute28    0\n",
            "Attribute29    0\n",
            "Attribute30    0\n",
            "Attribute31    0\n",
            "Attribute32    0\n",
            "Attribute33    0\n",
            "Attribute34    0\n",
            "Attribute35    0\n",
            "Attribute36    0\n",
            "Attribute37    0\n",
            "Attribute38    1\n",
            "Attribute39    0\n",
            "Attribute40    0\n",
            "Attribute41    0\n",
            "Attribute42    0\n",
            "Attribute43    0\n",
            "Attribute44    0\n",
            "Attribute45    0\n",
            "Attribute46    0\n",
            "Attribute47    0\n",
            "Attribute48    0\n",
            "Attribute49    0\n",
            "Attribute50    0\n",
            "Attribute51    0\n",
            "Attribute52    0\n",
            "Attribute53    0\n",
            "Attribute54    0\n",
            "Attribute55    0\n",
            "Attribute56    0\n",
            "dtype: int64\n"
          ]
        }
      ],
      "source": [
        "import pandas as pd\n",
        "import numpy as np\n",
        "from sklearn.model_selection import train_test_split\n",
        "from sklearn.naive_bayes import GaussianNB\n",
        "from sklearn.preprocessing import LabelEncoder\n",
        "from sklearn.impute import SimpleImputer\n",
        "from sklearn.metrics import accuracy_score\n",
        "\n",
        "# Assuming df is your original DataFrame with features and target\n",
        "# Replace df with your actual DataFrame\n",
        "print(df.columns)\n",
        "\n",
        "#for val in df.columns:\n",
        "null_values = (df.isnull())\n",
        "\n",
        "print(null_values.sum())\n",
        "\n"
      ]
    },
    {
      "cell_type": "code",
      "execution_count": null,
      "metadata": {
        "id": "GEGZ4q1NH59K"
      },
      "outputs": [],
      "source": [
        "print(df.columns)"
      ]
    },
    {
      "cell_type": "code",
      "execution_count": null,
      "metadata": {
        "id": "7PHZG_ssI7RT",
        "colab": {
          "base_uri": "https://localhost:8080/"
        },
        "outputId": "15e8cfb1-e822-4fa9-82a9-df26dc7f6874"
      },
      "outputs": [
        {
          "output_type": "stream",
          "name": "stdout",
          "text": [
            "    Attribute1  Attribute2  Attribute3  Attribute4  Attribute5  Attribute6  \\\n",
            "0            0           3           0         NaN           0           2   \n",
            "1            0           3           3         1.0           0           3   \n",
            "2            0           3           3         2.0           0           3   \n",
            "3            0           2           3         2.0           1           3   \n",
            "4            0           3           2         1.0           1           3   \n",
            "5            0           3           3         2.0           0           3   \n",
            "6            0           3           2         1.0           0           3   \n",
            "7            0           2           2         1.0           0           3   \n",
            "8            0           3           1         1.0           0           3   \n",
            "9            0           2           3         2.0           0           2   \n",
            "10           0           2           2         0.0           0           3   \n",
            "11           0           2           3         2.0           0           1   \n",
            "12           0           2           1         1.0           0           1   \n",
            "13           0           2           2         1.0           1           2   \n",
            "14           1           3           0         NaN           1           1   \n",
            "15           0           3           2         2.0           1           2   \n",
            "16           0           3           2         2.0           0           1   \n",
            "17           0           2           1         1.0           0           2   \n",
            "18           0           2           0         NaN           0           2   \n",
            "19           0           1           2         1.0           0           3   \n",
            "20           0           2           0         NaN           1           3   \n",
            "21           0           3           3         2.0           0           2   \n",
            "22           0           2           3         1.0           1           2   \n",
            "23           0           2           3         1.0           1           1   \n",
            "24           0           3           3         1.0           0           3   \n",
            "25           0           2           3         2.0           0           1   \n",
            "26           0           2           2         2.0           0           2   \n",
            "27           0           2           2         1.0           0           2   \n",
            "28           0           3           2         2.0           0           2   \n",
            "29           0           2           1         1.0           0           2   \n",
            "30           0           2           3         2.0           1           2   \n",
            "31           0           2           3         1.0           0           2   \n",
            "\n",
            "    Attribute7  Attribute8  Attribute9  Attribute10  ...  Attribute47  \\\n",
            "0            2           2           1            1  ...            2   \n",
            "1            1           3           1            1  ...            2   \n",
            "2            3           3           1            1  ...            2   \n",
            "3            3           3           1            2  ...            2   \n",
            "4            3           3           2            2  ...            2   \n",
            "5            3           3           1            2  ...            2   \n",
            "6            3           3           1            2  ...            2   \n",
            "7            1           3           3            3  ...            2   \n",
            "8            1           3           1            1  ...            2   \n",
            "9            2           2           1            2  ...            2   \n",
            "10           2           3           1            1  ...            2   \n",
            "11           2           1           1            2  ...            2   \n",
            "12           2           2           1            2  ...            2   \n",
            "13           3           3           1            1  ...            2   \n",
            "14           2           2           1            1  ...            2   \n",
            "15           2           2           1            1  ...            2   \n",
            "16           1           3           1            1  ...            2   \n",
            "17           1           3           1            1  ...            2   \n",
            "18           3           3           3            2  ...            2   \n",
            "19           3           3           1            2  ...            2   \n",
            "20           3           3           1            2  ...            2   \n",
            "21           1           3           1            1  ...            2   \n",
            "22           2           1           1            1  ...            3   \n",
            "23           2           1           1            1  ...            2   \n",
            "24           3           1           1            1  ...            2   \n",
            "25           2           2           1            2  ...            2   \n",
            "26           1           2           1            1  ...            2   \n",
            "27           2           2           1            1  ...            3   \n",
            "28           2           2           1            1  ...            2   \n",
            "29           2           1           1            1  ...            2   \n",
            "30           2           3           1            1  ...            2   \n",
            "31           3           3           1            1  ...            2   \n",
            "\n",
            "    Attribute48  Attribute49  Attribute50  Attribute51  Attribute52  \\\n",
            "0             2            2            2            2            1   \n",
            "1             2            2            2            2            2   \n",
            "2             2            2            2            2            2   \n",
            "3             2            2            2            2            2   \n",
            "4             2            2            2            2            2   \n",
            "5             2            2            2            2            2   \n",
            "6             2            2            2            1            2   \n",
            "7             2            1            2            2            2   \n",
            "8             2            2            2            2            2   \n",
            "9             2            2            1            3            2   \n",
            "10            2            2            2            2            2   \n",
            "11            2            2            2            2            1   \n",
            "12            2            2            2            2            2   \n",
            "13            2            2            2            2            1   \n",
            "14            2            2            2            2            2   \n",
            "15            2            2            2            2            2   \n",
            "16            2            2            2            2            2   \n",
            "17            2            2            2            2            1   \n",
            "18            2            2            2            2            2   \n",
            "19            2            2            2            2            1   \n",
            "20            2            2            2            1            2   \n",
            "21            2            1            2            2            2   \n",
            "22            3            3            3            1            3   \n",
            "23            2            2            2            2            2   \n",
            "24            2            2            2            3            2   \n",
            "25            2            2            1            3            1   \n",
            "26            2            2            2            2            2   \n",
            "27            3            2            2            3            2   \n",
            "28            2            2            3            1            2   \n",
            "29            2            3            2            2            2   \n",
            "30            2            2            2            2            2   \n",
            "31            2            2            2            2            2   \n",
            "\n",
            "    Attribute53  Attribute54  Attribute55  Attribute56  \n",
            "0             1            1            2            2  \n",
            "1             2            1            2            2  \n",
            "2             2            2            1            2  \n",
            "3             2            2            2            2  \n",
            "4             2            1            2            2  \n",
            "5             2            2            1            2  \n",
            "6             2            2            1            2  \n",
            "7             2            1            2            2  \n",
            "8             2            1            2            2  \n",
            "9             1            1            2            2  \n",
            "10            2            2            2            2  \n",
            "11            1            2            2            1  \n",
            "12            2            1            2            2  \n",
            "13            1            1            2            2  \n",
            "14            2            1            2            1  \n",
            "15            2            2            2            2  \n",
            "16            2            1            2            2  \n",
            "17            1            1            2            2  \n",
            "18            2            2            1            2  \n",
            "19            1            2            2            1  \n",
            "20            2            1            2            2  \n",
            "21            2            2            1            2  \n",
            "22            3            2            2            1  \n",
            "23            2            2            2            1  \n",
            "24            2            2            2            1  \n",
            "25            2            2            1            2  \n",
            "26            2            1            2            1  \n",
            "27            2            2            2            1  \n",
            "28            2            2            2            2  \n",
            "29            2            2            2            1  \n",
            "30            2            1            2            2  \n",
            "31            2            2            2            2  \n",
            "\n",
            "[32 rows x 56 columns]\n",
            "0     1\n",
            "1     1\n",
            "2     1\n",
            "3     1\n",
            "4     1\n",
            "5     1\n",
            "6     1\n",
            "7     1\n",
            "8     1\n",
            "9     2\n",
            "10    2\n",
            "11    2\n",
            "12    2\n",
            "13    2\n",
            "14    2\n",
            "15    2\n",
            "16    2\n",
            "17    2\n",
            "18    2\n",
            "19    2\n",
            "20    2\n",
            "21    2\n",
            "22    3\n",
            "23    3\n",
            "24    3\n",
            "25    3\n",
            "26    3\n",
            "27    3\n",
            "28    3\n",
            "29    3\n",
            "30    3\n",
            "31    3\n",
            "Name: class, dtype: int64\n"
          ]
        }
      ],
      "source": [
        "y=df[\"class\"]\n",
        "x=df.drop(\"class\",axis=1)\n",
        "print(x)\n",
        "print(y)"
      ]
    },
    {
      "cell_type": "code",
      "execution_count": null,
      "metadata": {
        "id": "E6080SbKJcUI",
        "colab": {
          "base_uri": "https://localhost:8080/"
        },
        "outputId": "da8720a7-6a38-4130-9b88-2693fa906f9a"
      },
      "outputs": [
        {
          "output_type": "stream",
          "name": "stdout",
          "text": [
            "Attribute1\n",
            "0.03125\n",
            "Attribute2\n",
            "2.375\n",
            "Attribute3\n",
            "2.03125\n",
            "Attribute4\n",
            "1.3928571428571428\n",
            "Attribute5\n",
            "0.28125\n",
            "Attribute6\n",
            "2.1875\n",
            "Attribute7\n",
            "2.125\n",
            "Attribute8\n",
            "2.40625\n",
            "Attribute9\n",
            "1.15625\n",
            "Attribute10\n",
            "1.40625\n",
            "Attribute11\n",
            "1.5\n",
            "Attribute12\n",
            "0.90625\n",
            "Attribute13\n",
            "1.9375\n",
            "Attribute14\n",
            "2.1875\n",
            "Attribute15\n",
            "2.21875\n",
            "Attribute16\n",
            "1.3125\n",
            "Attribute17\n",
            "1.875\n",
            "Attribute18\n",
            "1.875\n",
            "Attribute19\n",
            "0.46875\n",
            "Attribute20\n",
            "1.09375\n",
            "Attribute21\n",
            "1.75\n",
            "Attribute22\n",
            "1.8125\n",
            "Attribute23\n",
            "1.75\n",
            "Attribute24\n",
            "1.34375\n",
            "Attribute25\n",
            "1.71875\n",
            "Attribute26\n",
            "1.9375\n",
            "Attribute27\n",
            "2.3125\n",
            "Attribute28\n",
            "2.0625\n",
            "Attribute29\n",
            "2.15625\n",
            "Attribute30\n",
            "1.4375\n",
            "Attribute31\n",
            "2.3125\n",
            "Attribute32\n",
            "2.3125\n",
            "Attribute33\n",
            "2.71875\n",
            "Attribute34\n",
            "1.71875\n",
            "Attribute35\n",
            "1.625\n",
            "Attribute36\n",
            "1.6875\n",
            "Attribute37\n",
            "1.6875\n",
            "Attribute38\n",
            "1.7096774193548387\n",
            "Attribute39\n",
            "1.96875\n",
            "Attribute40\n",
            "2.0\n",
            "Attribute41\n",
            "1.59375\n",
            "Attribute42\n",
            "1.75\n",
            "Attribute43\n",
            "2.0625\n",
            "Attribute44\n",
            "1.875\n",
            "Attribute45\n",
            "1.96875\n",
            "Attribute46\n",
            "1.9375\n",
            "Attribute47\n",
            "2.0625\n",
            "Attribute48\n",
            "2.0625\n",
            "Attribute49\n",
            "2.0\n",
            "Attribute50\n",
            "2.0\n",
            "Attribute51\n",
            "2.0\n",
            "Attribute52\n",
            "1.84375\n",
            "Attribute53\n",
            "1.84375\n",
            "Attribute54\n",
            "1.5625\n",
            "Attribute55\n",
            "1.8125\n",
            "Attribute56\n",
            "1.71875\n"
          ]
        }
      ],
      "source": [
        "for i in x :\n",
        "\n",
        "  mean_without_null = np.nanmean(x[i])\n",
        "  print(i)\n",
        "  print(mean_without_null)\n",
        "  x[i]=x[i].fillna(mean_without_null)\n"
      ]
    },
    {
      "cell_type": "code",
      "execution_count": null,
      "metadata": {
        "id": "K1K4qeOQZuAZ"
      },
      "outputs": [],
      "source": []
    },
    {
      "cell_type": "code",
      "execution_count": null,
      "metadata": {
        "id": "3LHaJKcELA-j"
      },
      "outputs": [],
      "source": [
        "for i in x :\n",
        "  print(i)\n",
        "  for j in x[i]:\n",
        "    print(j)"
      ]
    },
    {
      "cell_type": "code",
      "execution_count": null,
      "metadata": {
        "id": "U3rtWAQHMfH0",
        "colab": {
          "base_uri": "https://localhost:8080/"
        },
        "outputId": "ae0f23dd-611a-40a5-da86-9e855a618e7d"
      },
      "outputs": [
        {
          "output_type": "stream",
          "name": "stdout",
          "text": [
            "    Attribute1  Attribute2  Attribute3  Attribute4  Attribute5  Attribute6  \\\n",
            "25           0           2           3    2.000000           0           1   \n",
            "12           0           2           1    1.000000           0           1   \n",
            "0            0           3           0    1.392857           0           2   \n",
            "4            0           3           2    1.000000           1           3   \n",
            "16           0           3           2    2.000000           0           1   \n",
            "5            0           3           3    2.000000           0           3   \n",
            "13           0           2           2    1.000000           1           2   \n",
            "11           0           2           3    2.000000           0           1   \n",
            "23           0           2           3    1.000000           1           1   \n",
            "1            0           3           3    1.000000           0           3   \n",
            "2            0           3           3    2.000000           0           3   \n",
            "26           0           2           2    2.000000           0           2   \n",
            "3            0           2           3    2.000000           1           3   \n",
            "21           0           3           3    2.000000           0           2   \n",
            "27           0           2           2    1.000000           0           2   \n",
            "22           0           2           3    1.000000           1           2   \n",
            "18           0           2           0    1.392857           0           2   \n",
            "31           0           2           3    1.000000           0           2   \n",
            "20           0           2           0    1.392857           1           3   \n",
            "7            0           2           2    1.000000           0           3   \n",
            "10           0           2           2    0.000000           0           3   \n",
            "14           1           3           0    1.392857           1           1   \n",
            "28           0           3           2    2.000000           0           2   \n",
            "19           0           1           2    1.000000           0           3   \n",
            "6            0           3           2    1.000000           0           3   \n",
            "\n",
            "    Attribute7  Attribute8  Attribute9  Attribute10  ...  Attribute47  \\\n",
            "25           2           2           1            2  ...            2   \n",
            "12           2           2           1            2  ...            2   \n",
            "0            2           2           1            1  ...            2   \n",
            "4            3           3           2            2  ...            2   \n",
            "16           1           3           1            1  ...            2   \n",
            "5            3           3           1            2  ...            2   \n",
            "13           3           3           1            1  ...            2   \n",
            "11           2           1           1            2  ...            2   \n",
            "23           2           1           1            1  ...            2   \n",
            "1            1           3           1            1  ...            2   \n",
            "2            3           3           1            1  ...            2   \n",
            "26           1           2           1            1  ...            2   \n",
            "3            3           3           1            2  ...            2   \n",
            "21           1           3           1            1  ...            2   \n",
            "27           2           2           1            1  ...            3   \n",
            "22           2           1           1            1  ...            3   \n",
            "18           3           3           3            2  ...            2   \n",
            "31           3           3           1            1  ...            2   \n",
            "20           3           3           1            2  ...            2   \n",
            "7            1           3           3            3  ...            2   \n",
            "10           2           3           1            1  ...            2   \n",
            "14           2           2           1            1  ...            2   \n",
            "28           2           2           1            1  ...            2   \n",
            "19           3           3           1            2  ...            2   \n",
            "6            3           3           1            2  ...            2   \n",
            "\n",
            "    Attribute48  Attribute49  Attribute50  Attribute51  Attribute52  \\\n",
            "25            2            2            1            3            1   \n",
            "12            2            2            2            2            2   \n",
            "0             2            2            2            2            1   \n",
            "4             2            2            2            2            2   \n",
            "16            2            2            2            2            2   \n",
            "5             2            2            2            2            2   \n",
            "13            2            2            2            2            1   \n",
            "11            2            2            2            2            1   \n",
            "23            2            2            2            2            2   \n",
            "1             2            2            2            2            2   \n",
            "2             2            2            2            2            2   \n",
            "26            2            2            2            2            2   \n",
            "3             2            2            2            2            2   \n",
            "21            2            1            2            2            2   \n",
            "27            3            2            2            3            2   \n",
            "22            3            3            3            1            3   \n",
            "18            2            2            2            2            2   \n",
            "31            2            2            2            2            2   \n",
            "20            2            2            2            1            2   \n",
            "7             2            1            2            2            2   \n",
            "10            2            2            2            2            2   \n",
            "14            2            2            2            2            2   \n",
            "28            2            2            3            1            2   \n",
            "19            2            2            2            2            1   \n",
            "6             2            2            2            1            2   \n",
            "\n",
            "    Attribute53  Attribute54  Attribute55  Attribute56  \n",
            "25            2            2            1            2  \n",
            "12            2            1            2            2  \n",
            "0             1            1            2            2  \n",
            "4             2            1            2            2  \n",
            "16            2            1            2            2  \n",
            "5             2            2            1            2  \n",
            "13            1            1            2            2  \n",
            "11            1            2            2            1  \n",
            "23            2            2            2            1  \n",
            "1             2            1            2            2  \n",
            "2             2            2            1            2  \n",
            "26            2            1            2            1  \n",
            "3             2            2            2            2  \n",
            "21            2            2            1            2  \n",
            "27            2            2            2            1  \n",
            "22            3            2            2            1  \n",
            "18            2            2            1            2  \n",
            "31            2            2            2            2  \n",
            "20            2            1            2            2  \n",
            "7             2            1            2            2  \n",
            "10            2            2            2            2  \n",
            "14            2            1            2            1  \n",
            "28            2            2            2            2  \n",
            "19            1            2            2            1  \n",
            "6             2            2            1            2  \n",
            "\n",
            "[25 rows x 56 columns]\n"
          ]
        }
      ],
      "source": [
        "X_train, X_test, y_train, y_test = train_test_split(x, y, test_size=0.2, random_state=42)\n",
        "print(X_train)"
      ]
    },
    {
      "cell_type": "code",
      "execution_count": null,
      "metadata": {
        "id": "6ozKOj5JN5e-",
        "colab": {
          "base_uri": "https://localhost:8080/"
        },
        "outputId": "471ac5eb-6fe6-4f74-b9f7-1ebbcff23fe3"
      },
      "outputs": [
        {
          "output_type": "stream",
          "name": "stdout",
          "text": [
            "Predicted Label: 1\n"
          ]
        }
      ],
      "source": [
        "def weighted_knn(new_point, dataset, labels, k):\n",
        "    distances = np.linalg.norm((dataset - new_point) , axis=1)\n",
        "    # print(distances)\n",
        "    k_distances=np.sort(distances)[:k]\n",
        "    nearest_indices = np.argsort(distances)[:k]\n",
        "    weights=np.array([]);\n",
        "    for num in range(0, k):\n",
        "      weights = np.append(weights, 1/(k_distances[num]+0.1))\n",
        "    # print(weights)\n",
        "    # print(nearest_indices)\n",
        "\n",
        "    empty_df = {}\n",
        "    j=0\n",
        "    for i, idx in enumerate(nearest_indices):\n",
        "        label = labels[idx]\n",
        "        if label in empty_df:\n",
        "          empty_df[label] += weights[i]\n",
        "        else :\n",
        "          empty_df[label] = weights[i]\n",
        "\n",
        "    predicted_label=0\n",
        "    # print(empty_df)\n",
        "    for i in empty_df:\n",
        "      if j<empty_df[i]:\n",
        "        j=empty_df[i]\n",
        "        predicted_label=i\n",
        "\n",
        "    return predicted_label\n",
        "\n",
        "\n",
        "dataset = np.array(X_train)\n",
        "labels = np.array(y_train)\n",
        "\n",
        "new_point = np.array(x.iloc[0])\n",
        "k = 5\n",
        "\n",
        "predicted_label = weighted_knn(new_point, dataset, labels, k)\n",
        "print(\"Predicted Label:\", predicted_label)\n"
      ]
    },
    {
      "cell_type": "code",
      "execution_count": null,
      "metadata": {
        "id": "81xb-fy9ZvfG",
        "colab": {
          "base_uri": "https://localhost:8080/"
        },
        "outputId": "69423932-5265-4436-ef44-688cbd9599c6"
      },
      "outputs": [
        {
          "output_type": "stream",
          "name": "stdout",
          "text": [
            "[2, 1, 3, 1, 1, 3, 2]\n"
          ]
        }
      ],
      "source": [
        "empty_list = []\n",
        "for i in range (0,X_test.shape[0]):\n",
        "  empty_list.append(weighted_knn(np.array(X_test.iloc[i]),dataset,labels,k))\n",
        "print(empty_list)"
      ]
    },
    {
      "cell_type": "code",
      "execution_count": null,
      "metadata": {
        "id": "wQsoT4kFbeCI",
        "colab": {
          "base_uri": "https://localhost:8080/"
        },
        "outputId": "0bb514fd-5fff-4345-fcc9-8ce065349d3a"
      },
      "outputs": [
        {
          "output_type": "stream",
          "name": "stdout",
          "text": [
            "(7, 56)\n",
            "Attribute1     0.0\n",
            "Attribute2     2.0\n",
            "Attribute3     1.0\n",
            "Attribute4     1.0\n",
            "Attribute5     0.0\n",
            "Attribute6     2.0\n",
            "Attribute7     2.0\n",
            "Attribute8     1.0\n",
            "Attribute9     1.0\n",
            "Attribute10    1.0\n",
            "Attribute11    1.0\n",
            "Attribute12    0.0\n",
            "Attribute13    1.0\n",
            "Attribute14    1.0\n",
            "Attribute15    1.0\n",
            "Attribute16    2.0\n",
            "Attribute17    1.0\n",
            "Attribute18    2.0\n",
            "Attribute19    0.0\n",
            "Attribute20    2.0\n",
            "Attribute21    1.0\n",
            "Attribute22    1.0\n",
            "Attribute23    1.0\n",
            "Attribute24    1.0\n",
            "Attribute25    1.0\n",
            "Attribute26    2.0\n",
            "Attribute27    2.0\n",
            "Attribute28    1.0\n",
            "Attribute29    2.0\n",
            "Attribute30    1.0\n",
            "Attribute31    3.0\n",
            "Attribute32    3.0\n",
            "Attribute33    3.0\n",
            "Attribute34    1.0\n",
            "Attribute35    1.0\n",
            "Attribute36    3.0\n",
            "Attribute37    3.0\n",
            "Attribute38    3.0\n",
            "Attribute39    2.0\n",
            "Attribute40    3.0\n",
            "Attribute41    1.0\n",
            "Attribute42    2.0\n",
            "Attribute43    2.0\n",
            "Attribute44    3.0\n",
            "Attribute45    3.0\n",
            "Attribute46    2.0\n",
            "Attribute47    2.0\n",
            "Attribute48    2.0\n",
            "Attribute49    3.0\n",
            "Attribute50    2.0\n",
            "Attribute51    2.0\n",
            "Attribute52    2.0\n",
            "Attribute53    2.0\n",
            "Attribute54    2.0\n",
            "Attribute55    2.0\n",
            "Attribute56    1.0\n",
            "Name: 29, dtype: float64\n"
          ]
        }
      ],
      "source": [
        "print(X_test.shape)\n",
        "print(X_test.iloc[0])"
      ]
    },
    {
      "cell_type": "code",
      "execution_count": null,
      "metadata": {
        "id": "lX9VujT6b0N6"
      },
      "outputs": [],
      "source": [
        "accuracy = np.mean(empty_list == y_test)\n",
        "print(\"Accuracy:\", accuracy)"
      ]
    },
    {
      "cell_type": "code",
      "execution_count": null,
      "metadata": {
        "id": "3F8_5u7ecoGy",
        "colab": {
          "base_uri": "https://localhost:8080/"
        },
        "outputId": "244f2eed-d3cf-4fc3-f93e-02c1a9b3b59e"
      },
      "outputs": [
        {
          "output_type": "stream",
          "name": "stdout",
          "text": [
            "              precision    recall  f1-score   support\n",
            "\n",
            "           1       0.33      1.00      0.50         1\n",
            "           2       0.00      0.00      0.00         3\n",
            "           3       0.50      0.33      0.40         3\n",
            "\n",
            "    accuracy                           0.29         7\n",
            "   macro avg       0.28      0.44      0.30         7\n",
            "weighted avg       0.26      0.29      0.24         7\n",
            "\n"
          ]
        }
      ],
      "source": [
        "from sklearn.metrics import classification_report\n",
        "print(classification_report(y_test,empty_list))"
      ]
    },
    {
      "cell_type": "code",
      "execution_count": null,
      "metadata": {
        "id": "ld9ZnozWdTX3",
        "colab": {
          "base_uri": "https://localhost:8080/"
        },
        "outputId": "37076a74-a83a-46cb-c518-2d3e6fc54d35"
      },
      "outputs": [
        {
          "output_type": "stream",
          "name": "stdout",
          "text": [
            "Average Precision: 0.2619047619047619\n",
            "Average Recall: 0.2857142857142857\n",
            "F1 Score: 0.24285714285714288\n"
          ]
        }
      ],
      "source": [
        "from sklearn import metrics\n",
        "precision = metrics.precision_score(y_test, empty_list, average='weighted')\n",
        "recall = metrics.recall_score(y_test, empty_list, average='weighted')\n",
        "f1_score = metrics.f1_score(y_test, empty_list, average='weighted')\n",
        "print(\"Average Precision:\", precision)\n",
        "print(\"Average Recall:\", recall)\n",
        "print(\"F1 Score:\", f1_score)"
      ]
    },
    {
      "cell_type": "code",
      "execution_count": null,
      "metadata": {
        "id": "62pDE9L0dfWX",
        "colab": {
          "base_uri": "https://localhost:8080/",
          "height": 472
        },
        "outputId": "7f6d94ad-7fce-42bb-db80-1b9209cfcfd9"
      },
      "outputs": [
        {
          "output_type": "display_data",
          "data": {
            "text/plain": [
              "<Figure size 640x480 with 1 Axes>"
            ],
            "image/png": "[encoded data removed]"
          },
          "metadata": {}
        }
      ],
      "source": [
        "import seaborn as sns\n",
        "import matplotlib.pyplot as plt\n",
        "conf_matrix = metrics.confusion_matrix(y_test, empty_list)\n",
        "sns.heatmap(conf_matrix, annot=True, fmt='d', cmap='Blues', cbar=False)\n",
        "plt.xlabel('Predicted Labels')\n",
        "plt.ylabel('True Labels')\n",
        "plt.title('Confusion Matrix')\n",
        "plt.show()"
      ]
    }
  ],
  "metadata": {
    "colab": {
      "provenance": [],
      "include_colab_link": true
    },
    "kernelspec": {
      "display_name": "Python 3",
      "name": "python3"
    },
    "language_info": {
      "name": "python"
    }
  },
  "nbformat": 4,
  "nbformat_minor": 0
}