{
  "nbformat": 4,
  "nbformat_minor": 0,
  "metadata": {
    "colab": {
      "provenance": [],
      "authorship_tag": "ABX9TyNYhG6EmEd1+tUs1mA+VJA+",
      "include_colab_link": true
    },
    "kernelspec": {
      "name": "python3",
      "display_name": "Python 3"
    },
    "language_info": {
      "name": "python"
    }
  },
  "cells": [
    {
      "cell_type": "markdown",
      "metadata": {
        "id": "view-in-github",
        "colab_type": "text"
      },
      "source": [
        "<a href=\"https://colab.research.google.com/github/rry123/Machine-Learning/blob/main/gates_ann.ipynb\" target=\"_parent\"><img src=\"https://colab.research.google.com/assets/colab-badge.svg\" alt=\"Open In Colab\"/></a>"
      ]
    },
    {
      "cell_type": "code",
      "execution_count": 7,
      "metadata": {
        "id": "s661BwXiNSGu"
      },
      "outputs": [],
      "source": [
        "import numpy as np\n",
        "import pandas as pd\n",
        "\n",
        "n = 0.1\n",
        "w1 = np.random.random()\n",
        "w2 = np.random.random()\n",
        "\n",
        "t = 1 #threshold\n",
        "c = 0\n",
        "\n",
        "and_res = [[0, 0, 0], [1, 0, 0], [0, 1, 0], [1, 1, 1]]\n",
        "or_res = [[0, 0, 0], [1, 0, 1], [0, 1, 1], [1, 1, 1]]"
      ]
    },
    {
      "cell_type": "code",
      "source": [
        "def calculate(w1, w2, x1, x2):\n",
        "  s = w1*x1 + w2*x2\n",
        "  if(s>=t):\n",
        "    return 1\n",
        "  return 0"
      ],
      "metadata": {
        "id": "iSfZAGK7N8_c"
      },
      "execution_count": 9,
      "outputs": []
    },
    {
      "cell_type": "code",
      "source": [
        "def update(x, w, dt):\n",
        "  delta = n*dt*x\n",
        "  w = w + delta\n",
        "  return w"
      ],
      "metadata": {
        "id": "J_rJkQUHOIpb"
      },
      "execution_count": 11,
      "outputs": []
    },
    {
      "cell_type": "code",
      "source": [
        "def forward(result , w1, w2):\n",
        "  for i in result:\n",
        "    s = calculate(w1, w2, i[0], i[1])\n",
        "\n",
        "    if(s!=i[2]):\n",
        "      w1 = update(i[0], w1, i[2]-s)\n",
        "      w2 = update(i[1], w2, i[2]-s)\n",
        "\n",
        "      [w1,w2] = forward(result , w1, w2)\n",
        "      return [w1, w2]\n",
        "\n",
        "  return [w1, w2]"
      ],
      "metadata": {
        "id": "WWGHv1pfOb2p"
      },
      "execution_count": 5,
      "outputs": []
    },
    {
      "cell_type": "code",
      "source": [
        "answer_and  = forward(and_res, w1, w2)\n",
        "\n",
        "for i in answer_and:\n",
        "  print(i)"
      ],
      "metadata": {
        "colab": {
          "base_uri": "https://localhost:8080/"
        },
        "id": "GxbqxcJAuOFb",
        "outputId": "85db4bb5-d3ac-459f-f390-2c596ae7a688"
      },
      "execution_count": 12,
      "outputs": [
        {
          "output_type": "stream",
          "name": "stdout",
          "text": [
            "0.9463668986354572\n",
            "0.21274000093286122\n"
          ]
        }
      ]
    },
    {
      "cell_type": "code",
      "source": [
        "or_and = forward(or_res, w1, w2)\n",
        "for i in or_and:\n",
        "  print(i)"
      ],
      "metadata": {
        "colab": {
          "base_uri": "https://localhost:8080/"
        },
        "id": "4_ZbZQIVusLB",
        "outputId": "f5ae1530-6569-4c25-9edc-8f190b24beb4"
      },
      "execution_count": 13,
      "outputs": [
        {
          "output_type": "stream",
          "name": "stdout",
          "text": [
            "1.0463668986354573\n",
            "1.012740000932861\n"
          ]
        }
      ]
    }
  ]
}