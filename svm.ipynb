{
  "nbformat": 4,
  "nbformat_minor": 0,
  "metadata": {
    "colab": {
      "provenance": [],
      "authorship_tag": "ABX9TyPKsuodu5YERByMWkO84bpA",
      "include_colab_link": true
    },
    "kernelspec": {
      "name": "python3",
      "display_name": "Python 3"
    },
    "language_info": {
      "name": "python"
    }
  },
  "cells": [
    {
      "cell_type": "markdown",
      "metadata": {
        "id": "view-in-github",
        "colab_type": "text"
      },
      "source": [
        "<a href=\"https://colab.research.google.com/github/rry123/Machine-Learning/blob/main/svm.ipynb\" target=\"_parent\"><img src=\"https://colab.research.google.com/assets/colab-badge.svg\" alt=\"Open In Colab\"/></a>"
      ]
    },
    {
      "cell_type": "code",
      "execution_count": 1,
      "metadata": {
        "id": "f0RNsySxm9gm"
      },
      "outputs": [],
      "source": [
        "import numpy as np\n",
        "import pandas as pd\n",
        "import matplotlib.pyplot as plt\n",
        "\n",
        "import seaborn as sns"
      ]
    },
    {
      "cell_type": "code",
      "source": [
        "data = pd.read_csv('diabetes.csv')\n",
        "data\n",
        "\n",
        "df = pd.DataFrame(data)\n",
        "df.head()\n",
        "\n",
        "null_values = df.isnull()\n",
        "print(null_values.sum())"
      ],
      "metadata": {
        "colab": {
          "base_uri": "https://localhost:8080/"
        },
        "id": "GNiGJ_3_nKtP",
        "outputId": "098449e1-4304-4ee8-cf4f-3bbd991ab53b"
      },
      "execution_count": 6,
      "outputs": [
        {
          "output_type": "stream",
          "name": "stdout",
          "text": [
            "Pregnancies                 0\n",
            "Glucose                     0\n",
            "BloodPressure               0\n",
            "SkinThickness               0\n",
            "Insulin                     0\n",
            "BMI                         0\n",
            "DiabetesPedigreeFunction    0\n",
            "Age                         0\n",
            "Outcome                     0\n",
            "dtype: int64\n"
          ]
        }
      ]
    },
    {
      "cell_type": "code",
      "source": [
        "y = df['Outcome']\n",
        "x = df.drop(\"Outcome\", axis = 1)\n",
        "\n",
        "print(x)\n",
        "print(y)"
      ],
      "metadata": {
        "colab": {
          "base_uri": "https://localhost:8080/"
        },
        "id": "B2abJo1Rn6Kx",
        "outputId": "f44b628e-bcc6-421a-bd1f-8d41644e8cff"
      },
      "execution_count": 7,
      "outputs": [
        {
          "output_type": "stream",
          "name": "stdout",
          "text": [
            "     Pregnancies  Glucose  BloodPressure  SkinThickness  Insulin   BMI  \\\n",
            "0              6      148             72             35        0  33.6   \n",
            "1              1       85             66             29        0  26.6   \n",
            "2              8      183             64              0        0  23.3   \n",
            "3              1       89             66             23       94  28.1   \n",
            "4              0      137             40             35      168  43.1   \n",
            "..           ...      ...            ...            ...      ...   ...   \n",
            "763           10      101             76             48      180  32.9   \n",
            "764            2      122             70             27        0  36.8   \n",
            "765            5      121             72             23      112  26.2   \n",
            "766            1      126             60              0        0  30.1   \n",
            "767            1       93             70             31        0  30.4   \n",
            "\n",
            "     DiabetesPedigreeFunction  Age  \n",
            "0                       0.627   50  \n",
            "1                       0.351   31  \n",
            "2                       0.672   32  \n",
            "3                       0.167   21  \n",
            "4                       2.288   33  \n",
            "..                        ...  ...  \n",
            "763                     0.171   63  \n",
            "764                     0.340   27  \n",
            "765                     0.245   30  \n",
            "766                     0.349   47  \n",
            "767                     0.315   23  \n",
            "\n",
            "[768 rows x 8 columns]\n",
            "0      1\n",
            "1      0\n",
            "2      1\n",
            "3      0\n",
            "4      1\n",
            "      ..\n",
            "763    0\n",
            "764    0\n",
            "765    0\n",
            "766    1\n",
            "767    0\n",
            "Name: Outcome, Length: 768, dtype: int64\n"
          ]
        }
      ]
    },
    {
      "cell_type": "code",
      "source": [
        "i = 0\n",
        "for i in x:\n",
        "  mean_without_null = np.nanmean(x[i])\n",
        "  print(mean_without_null)\n",
        "  x[i] = x[i].fillna(mean_without_null)"
      ],
      "metadata": {
        "colab": {
          "base_uri": "https://localhost:8080/"
        },
        "id": "FSXs33g8oLv9",
        "outputId": "719df633-edbc-4bdf-97f6-3e3f8084d583"
      },
      "execution_count": 8,
      "outputs": [
        {
          "output_type": "stream",
          "name": "stdout",
          "text": [
            "3.8450520833333335\n",
            "120.89453125\n",
            "69.10546875\n",
            "20.536458333333332\n",
            "79.79947916666667\n",
            "31.992578124999998\n",
            "0.47187630208333325\n",
            "33.240885416666664\n"
          ]
        }
      ]
    },
    {
      "cell_type": "code",
      "source": [
        "from sklearn.model_selection import train_test_split\n",
        "\n",
        "x_train, x_test, y_train, y_test = train_test_split(x, y, test_size = 0.2 , random_state = 42)"
      ],
      "metadata": {
        "id": "uedtsVY7obI1"
      },
      "execution_count": 9,
      "outputs": []
    },
    {
      "cell_type": "code",
      "source": [
        "print(df.columns)"
      ],
      "metadata": {
        "colab": {
          "base_uri": "https://localhost:8080/"
        },
        "id": "eDF_mo5AqCdY",
        "outputId": "f27c7172-cc03-4381-b85e-97c3c99937ed"
      },
      "execution_count": 11,
      "outputs": [
        {
          "output_type": "stream",
          "name": "stdout",
          "text": [
            "Index(['Pregnancies', 'Glucose', 'BloodPressure', 'SkinThickness', 'Insulin',\n",
            "       'BMI', 'DiabetesPedigreeFunction', 'Age', 'Outcome'],\n",
            "      dtype='object')\n"
          ]
        }
      ]
    },
    {
      "cell_type": "code",
      "source": [
        "lmd = 0.01\n",
        "alpha = 0.001\n",
        "iterations = 10\n",
        "def fit(x, y):\n",
        "  w = np.zeros(8)\n",
        "  b = 0\n",
        "\n",
        "  for it in range (iterations):\n",
        "    i = 0\n",
        "\n",
        "    while(i < len(x)):\n",
        "      xi = [x.iloc[i]['Pregnancies'],x.iloc[i]['Glucose'],x.iloc[i]['BloodPressure'],x.iloc[i]['SkinThickness'],x.iloc[i]['Insulin'],x.iloc[i]['BMI'],x.iloc[i]['DiabetesPedigreeFunction'],x.iloc[i]['Age']]\n",
        "\n",
        "      if y[i] * (np.dot(xi, w)-b) >= 1:\n",
        "        w-= alpha*(2*lmd*w)\n",
        "      else:\n",
        "        w-= alpha*(2*lmd*w - np.dot(xi, y[i]))\n",
        "        b-= alpha*y[i]\n",
        "      i = i+1\n",
        "\n",
        "  return w, b\n",
        "\n"
      ],
      "metadata": {
        "id": "UbFmSjjKrI2Z"
      },
      "execution_count": 14,
      "outputs": []
    },
    {
      "cell_type": "code",
      "source": [
        "w, b = fit(x, y)\n",
        "print(w)\n",
        "print(b)"
      ],
      "metadata": {
        "colab": {
          "base_uri": "https://localhost:8080/"
        },
        "id": "T74EtrKKsd7b",
        "outputId": "f5077b9d-d193-46c7-ba5b-bc92711eeeca"
      },
      "execution_count": 18,
      "outputs": [
        {
          "output_type": "stream",
          "name": "stdout",
          "text": [
            "[ 0.89349677  0.14730536 -0.44367356 -0.13029134  0.11714285 -0.0156531\n",
            "  0.0552739  -0.06170567]\n",
            "0.3000000000000002\n"
          ]
        }
      ]
    },
    {
      "cell_type": "code",
      "source": [
        "def predict(x):\n",
        "  pred = np.dot(x, w)-b\n",
        "  result = [1 if val > 0 else -1 for val in pred]\n",
        "  return result"
      ],
      "metadata": {
        "id": "3B8g2YbptQzU"
      },
      "execution_count": 19,
      "outputs": []
    },
    {
      "cell_type": "code",
      "source": [
        "res = predict(x)\n",
        "\n",
        "print(np.mean(res == y))"
      ],
      "metadata": {
        "colab": {
          "base_uri": "https://localhost:8080/"
        },
        "id": "oUX3RHUitee6",
        "outputId": "45e36a26-1714-4ea9-e204-b3db1acc293e"
      },
      "execution_count": 20,
      "outputs": [
        {
          "output_type": "stream",
          "name": "stdout",
          "text": [
            "0.6471354166666666\n"
          ]
        }
      ]
    },
    {
      "cell_type": "code",
      "source": [
        "from sklearn.metrics import classification_report\n",
        "print(classification_report(y, res))"
      ],
      "metadata": {
        "colab": {
          "base_uri": "https://localhost:8080/"
        },
        "id": "Xs96dj4WtocR",
        "outputId": "e7356667-6367-4512-cfb4-1bc35823f705"
      },
      "execution_count": 21,
      "outputs": [
        {
          "output_type": "stream",
          "name": "stdout",
          "text": [
            "              precision    recall  f1-score   support\n",
            "\n",
            "          -1       0.71      0.77      0.74       500\n",
            "           1       0.49      0.41      0.45       268\n",
            "\n",
            "    accuracy                           0.65       768\n",
            "   macro avg       0.60      0.59      0.60       768\n",
            "weighted avg       0.63      0.65      0.64       768\n",
            "\n"
          ]
        }
      ]
    },
    {
      "cell_type": "code",
      "source": [
        "from sklearn import metrics\n",
        "precision = metrics.precision_score(y, res, average = 'weighted')\n",
        "recall = metrics.recall_score(y, res, average = 'weighted')\n",
        "f1_score = metrics.f1_score(y, res, average = 'weighted')\n",
        "\n",
        "print(precision)\n",
        "print(recall)\n",
        "print(f1_score)"
      ],
      "metadata": {
        "colab": {
          "base_uri": "https://localhost:8080/"
        },
        "id": "pXNP-PLCtzqT",
        "outputId": "6cc812f6-db53-4f5a-8ca3-f42cd458c18a"
      },
      "execution_count": 24,
      "outputs": [
        {
          "output_type": "stream",
          "name": "stdout",
          "text": [
            "0.6349558778391651\n",
            "0.6471354166666666\n",
            "0.6390206134525089\n"
          ]
        }
      ]
    },
    {
      "cell_type": "code",
      "source": [
        "\n",
        "conf_matrix = metrics.confusion_matrix(y, res)\n",
        "sns.heatmap(conf_matrix, cbar = False , annot= True, cmap  = \"Blues\")\n",
        "\n",
        "plt.show()"
      ],
      "metadata": {
        "colab": {
          "base_uri": "https://localhost:8080/",
          "height": 430
        },
        "id": "CvSpA1mruPLz",
        "outputId": "607fca6f-4ea4-48ab-bac3-0f4a48b8ed11"
      },
      "execution_count": 25,
      "outputs": [
        {
          "output_type": "display_data",
          "data": {
            "text/plain": [
              "<Figure size 640x480 with 1 Axes>"
            ],
            "image/png": "[encoded data removed]"
          },
          "metadata": {}
        }
      ]
    }
  ]
}