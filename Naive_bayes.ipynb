{
  "nbformat": 4,
  "nbformat_minor": 0,
  "metadata": {
    "colab": {
      "provenance": [],
      "include_colab_link": true
    },
    "kernelspec": {
      "name": "python3",
      "display_name": "Python 3"
    },
    "language_info": {
      "name": "python"
    }
  },
  "cells": [
    {
      "cell_type": "markdown",
      "metadata": {
        "id": "view-in-github",
        "colab_type": "text"
      },
      "source": [
        "<a href=\"https://colab.research.google.com/github/rry123/Machine-Learning/blob/main/Naive_bayes.ipynb\" target=\"_parent\"><img src=\"https://colab.research.google.com/assets/colab-badge.svg\" alt=\"Open In Colab\"/></a>"
      ]
    },
    {
      "cell_type": "code",
      "execution_count": 2,
      "metadata": {
        "id": "JiqfRhXVJMVG",
        "colab": {
          "base_uri": "https://localhost:8080/"
        },
        "outputId": "1a4310ad-1a11-4c31-d639-016a6cc33027"
      },
      "outputs": [
        {
          "output_type": "stream",
          "name": "stdout",
          "text": [
            "Collecting ucimlrepo\n",
            "  Downloading ucimlrepo-0.0.6-py3-none-any.whl (8.0 kB)\n",
            "Installing collected packages: ucimlrepo\n",
            "Successfully installed ucimlrepo-0.0.6\n"
          ]
        }
      ],
      "source": [
        "pip install ucimlrepo"
      ]
    },
    {
      "cell_type": "code",
      "source": [
        "from ucimlrepo import fetch_ucirepo\n",
        "\n",
        "# fetch dataset\n",
        "iris = fetch_ucirepo(id=53)\n",
        "\n",
        "# # data (as pandas dataframes)\n",
        "# X = iris.data.features\n",
        "# y = iris.data.targets\n",
        "\n",
        "# # metadata\n",
        "# print(iris.metadata)\n",
        "\n",
        "# # variable information\n",
        "# print(iris.variables)\n",
        "\n",
        "data = iris.data.original;\n",
        "data.shape\n"
      ],
      "metadata": {
        "id": "-DsHbIdFJSCw",
        "colab": {
          "base_uri": "https://localhost:8080/"
        },
        "outputId": "165d253e-b4f5-421c-f58e-0df7c795a27a"
      },
      "execution_count": 3,
      "outputs": [
        {
          "output_type": "execute_result",
          "data": {
            "text/plain": [
              "(150, 5)"
            ]
          },
          "metadata": {},
          "execution_count": 3
        }
      ]
    },
    {
      "cell_type": "code",
      "source": [
        "import pandas as pd\n",
        "import numpy as np\n",
        "from sklearn.model_selection import train_test_split\n",
        "from sklearn.naive_bayes import GaussianNB\n",
        "from sklearn.preprocessing import LabelEncoder\n",
        "from sklearn.impute import SimpleImputer\n",
        "from sklearn.metrics import accuracy_score\n",
        "\n",
        "# Assuming df is your original DataFrame with features and target\n",
        "df = pd.DataFrame(data)\n",
        "\n",
        "print(df.head())\n",
        "# Replace df with your actual DataFrame\n",
        "print(df.columns)\n",
        "\n",
        "#for val in df.columns:\n",
        "null_values = (df.isnull())\n",
        "\n",
        "print(null_values.sum())\n"
      ],
      "metadata": {
        "id": "jsGWvz50JzL6",
        "colab": {
          "base_uri": "https://localhost:8080/"
        },
        "outputId": "15e5e002-ddb0-4ce5-dd44-cc0ba04ddcac"
      },
      "execution_count": 4,
      "outputs": [
        {
          "output_type": "stream",
          "name": "stdout",
          "text": [
            "   sepal length  sepal width  petal length  petal width        class\n",
            "0           5.1          3.5           1.4          0.2  Iris-setosa\n",
            "1           4.9          3.0           1.4          0.2  Iris-setosa\n",
            "2           4.7          3.2           1.3          0.2  Iris-setosa\n",
            "3           4.6          3.1           1.5          0.2  Iris-setosa\n",
            "4           5.0          3.6           1.4          0.2  Iris-setosa\n",
            "Index(['sepal length', 'sepal width', 'petal length', 'petal width', 'class'], dtype='object')\n",
            "sepal length    0\n",
            "sepal width     0\n",
            "petal length    0\n",
            "petal width     0\n",
            "class           0\n",
            "dtype: int64\n"
          ]
        }
      ]
    },
    {
      "cell_type": "code",
      "source": [
        "y=df[\"class\"]\n",
        "x=df.drop(\"class\",axis=1)\n",
        "print(x)\n",
        "print(y)"
      ],
      "metadata": {
        "id": "-xT7IS5jKGyc",
        "colab": {
          "base_uri": "https://localhost:8080/"
        },
        "outputId": "2e1f7ea1-dc21-46cb-cf66-f991be6fc641"
      },
      "execution_count": 5,
      "outputs": [
        {
          "output_type": "stream",
          "name": "stdout",
          "text": [
            "     sepal length  sepal width  petal length  petal width\n",
            "0             5.1          3.5           1.4          0.2\n",
            "1             4.9          3.0           1.4          0.2\n",
            "2             4.7          3.2           1.3          0.2\n",
            "3             4.6          3.1           1.5          0.2\n",
            "4             5.0          3.6           1.4          0.2\n",
            "..            ...          ...           ...          ...\n",
            "145           6.7          3.0           5.2          2.3\n",
            "146           6.3          2.5           5.0          1.9\n",
            "147           6.5          3.0           5.2          2.0\n",
            "148           6.2          3.4           5.4          2.3\n",
            "149           5.9          3.0           5.1          1.8\n",
            "\n",
            "[150 rows x 4 columns]\n",
            "0         Iris-setosa\n",
            "1         Iris-setosa\n",
            "2         Iris-setosa\n",
            "3         Iris-setosa\n",
            "4         Iris-setosa\n",
            "            ...      \n",
            "145    Iris-virginica\n",
            "146    Iris-virginica\n",
            "147    Iris-virginica\n",
            "148    Iris-virginica\n",
            "149    Iris-virginica\n",
            "Name: class, Length: 150, dtype: object\n"
          ]
        }
      ]
    },
    {
      "cell_type": "code",
      "source": [
        "for i in x :\n",
        "\n",
        "  mean_without_null = np.nanmean(x[i])\n",
        "  print(i)\n",
        "  print(mean_without_null)\n",
        "  x[i]=x[i].fillna(mean_without_null)"
      ],
      "metadata": {
        "id": "pUKjv49MKMJq",
        "colab": {
          "base_uri": "https://localhost:8080/"
        },
        "outputId": "5df9976b-8793-4a50-d4ad-8276b395d87e"
      },
      "execution_count": 6,
      "outputs": [
        {
          "output_type": "stream",
          "name": "stdout",
          "text": [
            "sepal length\n",
            "5.843333333333334\n",
            "sepal width\n",
            "3.0540000000000003\n",
            "petal length\n",
            "3.758666666666666\n",
            "petal width\n",
            "1.1986666666666668\n"
          ]
        }
      ]
    },
    {
      "cell_type": "code",
      "source": [
        "X_train, X_test, y_train, y_test = train_test_split(x, y, test_size=0.2, random_state=42)\n",
        "print(X_train)"
      ],
      "metadata": {
        "id": "1TTdJw5AKTU7",
        "colab": {
          "base_uri": "https://localhost:8080/"
        },
        "outputId": "6365f0dd-efcd-4ee7-c396-cfe8444dfb1b"
      },
      "execution_count": 7,
      "outputs": [
        {
          "output_type": "stream",
          "name": "stdout",
          "text": [
            "     sepal length  sepal width  petal length  petal width\n",
            "22            4.6          3.6           1.0          0.2\n",
            "15            5.7          4.4           1.5          0.4\n",
            "65            6.7          3.1           4.4          1.4\n",
            "11            4.8          3.4           1.6          0.2\n",
            "42            4.4          3.2           1.3          0.2\n",
            "..            ...          ...           ...          ...\n",
            "71            6.1          2.8           4.0          1.3\n",
            "106           4.9          2.5           4.5          1.7\n",
            "14            5.8          4.0           1.2          0.2\n",
            "92            5.8          2.6           4.0          1.2\n",
            "102           7.1          3.0           5.9          2.1\n",
            "\n",
            "[120 rows x 4 columns]\n"
          ]
        }
      ]
    },
    {
      "cell_type": "code",
      "source": [
        "def normal_dist(x, mean, sd):\n",
        "    prob_density = 1/(np.sqrt(np.pi*2)*sd) * np.exp(-0.5*((x-mean)/sd)**2)\n",
        "    return prob_density\n",
        "\n"
      ],
      "metadata": {
        "id": "JAgXOQ31K6ZS"
      },
      "execution_count": 8,
      "outputs": []
    },
    {
      "cell_type": "code",
      "source": [],
      "metadata": {
        "id": "NKRFV_iHQV6P"
      },
      "execution_count": null,
      "outputs": []
    },
    {
      "cell_type": "code",
      "source": [
        "def fit(x,y):\n",
        "  sum={}\n",
        "  ss={}\n",
        "  mean={}\n",
        "  sd={}\n",
        "  elements={}\n",
        "  k=np.unique(y)\n",
        "  j=0\n",
        "  for i in k:\n",
        "    sum[i]={}\n",
        "    ss[i]={}\n",
        "\n",
        "    elements[i]=[]\n",
        "    sd[i]={}\n",
        "    mean[i]={}\n",
        "    for a in x:\n",
        "      sum[i][a]=0\n",
        "\n",
        "      ss[i][a]=0\n",
        "      mean[i][a]=0\n",
        "      sd[i][a]=0\n",
        "  while(j<120):\n",
        "    elements[y.iloc[j]].append(x.iloc[j])\n",
        "    # print(y.iloc[j])\n",
        "    # print(x.iloc[j])\n",
        "    j=j+1\n",
        "  # newElements=pd.DataFrame(elements)\n",
        "  for i in k:\n",
        "    for j in elements[i]:\n",
        "      b=np.array(j)\n",
        "\n",
        "      c=0\n",
        "      # print(i)\n",
        "      # print(b)\n",
        "      for a in x:\n",
        "        sum[i][a]+=b[c]\n",
        "        ss[i][a]+=b[c]*b[c]\n",
        "\n",
        "        c=c+1\n",
        "\n",
        "  # print(sum)\n",
        "  # print(ss)\n",
        "  for i in k:\n",
        "    for a in x:\n",
        "      mean[i][a]=sum[i][a]/len(elements[i])\n",
        "      sd[i][a]=ss[i][a]/len(elements[i])-mean[i][a]**2\n",
        "  mean_sd=[mean,sd]\n",
        "  return mean_sd\n",
        "\n",
        "\n"
      ],
      "metadata": {
        "id": "1SCX7CslLe7k"
      },
      "execution_count": 9,
      "outputs": []
    },
    {
      "cell_type": "code",
      "source": [
        "mean_sd=fit(X_train,y_train)\n",
        "print(mean_sd)"
      ],
      "metadata": {
        "id": "arlXsX2uNLFU",
        "colab": {
          "base_uri": "https://localhost:8080/"
        },
        "outputId": "e30d8061-597a-44b7-8cad-c46abe86a834"
      },
      "execution_count": 10,
      "outputs": [
        {
          "output_type": "stream",
          "name": "stdout",
          "text": [
            "[{'Iris-setosa': {'sepal length': 4.99, 'sepal width': 3.44, 'petal length': 1.4524999999999997, 'petal width': 0.2425}, 'Iris-versicolor': {'sepal length': 5.919512195121952, 'sepal width': 2.770731707317073, 'petal length': 4.241463414634147, 'petal width': 1.3219512195121947}, 'Iris-virginica': {'sepal length': 6.533333333333333, 'sepal width': 2.966666666666667, 'petal length': 5.52051282051282, 'petal width': 1.9999999999999996}}, {'Iris-setosa': {'sepal length': 0.12389999999999546, 'sepal width': 0.15490000000000315, 'petal length': 0.03299375000000104, 'petal width': 0.01144375000000001}, 'Iris-versicolor': {'sepal length': 0.2869363474122508, 'sepal width': 0.10011897679952497, 'petal length': 0.22584176085662122, 'petal width': 0.041225461035099054}, 'Iris-virginica': {'sepal length': 0.4165811965812125, 'sepal width': 0.0991452991452988, 'petal length': 0.2857330703484493, 'petal width': 0.08205128205128354}}]\n"
          ]
        }
      ]
    },
    {
      "cell_type": "code",
      "source": [
        "def predict(mean_sd,x):\n",
        "  p=[]\n",
        "  k=np.unique(y_train)\n",
        "  max=0\n",
        "  ret=0\n",
        "  c=0\n",
        "  for i in k:\n",
        "    prob=1\n",
        "    c=0\n",
        "    for j in X_train:\n",
        "      prob=prob*normal_dist(x[c],mean_sd[0][i][j],mean_sd[1][i][j])\n",
        "      c=c+1\n",
        "    if(prob>max):\n",
        "      max=prob\n",
        "      ret=i\n",
        "  return ret"
      ],
      "metadata": {
        "id": "VWN-GP4yOmXa"
      },
      "execution_count": 11,
      "outputs": []
    },
    {
      "cell_type": "code",
      "source": [
        "j=0\n",
        "predictions=[]\n",
        "while(j<len(X_test)):\n",
        "  predictions.append(predict(mean_sd,np.array(X_test.iloc[j])))\n",
        "  j=j+1"
      ],
      "metadata": {
        "id": "KH3IIG-zbIp1"
      },
      "execution_count": 12,
      "outputs": []
    },
    {
      "cell_type": "code",
      "source": [
        "accuracy = np.mean(predictions== y_test)\n",
        "print(\"Accuracy:\", accuracy)"
      ],
      "metadata": {
        "id": "LU-mUjOeQzIq",
        "colab": {
          "base_uri": "https://localhost:8080/"
        },
        "outputId": "4c6b9778-9a59-4710-a6c0-231111bdae65"
      },
      "execution_count": 13,
      "outputs": [
        {
          "output_type": "stream",
          "name": "stdout",
          "text": [
            "Accuracy: 0.9666666666666667\n"
          ]
        }
      ]
    },
    {
      "cell_type": "code",
      "source": [
        "from sklearn.metrics import classification_report\n",
        "print(classification_report(y_test,predictions))"
      ],
      "metadata": {
        "id": "MoKaqsEocRWD",
        "colab": {
          "base_uri": "https://localhost:8080/"
        },
        "outputId": "ae58aed7-68fe-4ad2-b5dc-cf91929bb175"
      },
      "execution_count": 14,
      "outputs": [
        {
          "output_type": "stream",
          "name": "stdout",
          "text": [
            "                 precision    recall  f1-score   support\n",
            "\n",
            "    Iris-setosa       1.00      1.00      1.00        10\n",
            "Iris-versicolor       1.00      0.89      0.94         9\n",
            " Iris-virginica       0.92      1.00      0.96        11\n",
            "\n",
            "       accuracy                           0.97        30\n",
            "      macro avg       0.97      0.96      0.97        30\n",
            "   weighted avg       0.97      0.97      0.97        30\n",
            "\n"
          ]
        }
      ]
    },
    {
      "cell_type": "code",
      "source": [
        "empty_list=predictions"
      ],
      "metadata": {
        "id": "rUklHIltcXMC"
      },
      "execution_count": 15,
      "outputs": []
    },
    {
      "cell_type": "code",
      "source": [
        "from sklearn import metrics\n",
        "precision = metrics.precision_score(y_test, empty_list, average='weighted')\n",
        "recall = metrics.recall_score(y_test, empty_list, average='weighted')\n",
        "f1_score = metrics.f1_score(y_test, empty_list, average='weighted')\n",
        "print(\"Average Precision:\", precision)\n",
        "print(\"Average Recall:\", recall)\n",
        "print(\"F1 Score:\", f1_score)"
      ],
      "metadata": {
        "id": "MSv6RsH1cV2C",
        "colab": {
          "base_uri": "https://localhost:8080/"
        },
        "outputId": "782daca1-9e21-4932-885e-ba2bf6a7aec2"
      },
      "execution_count": 16,
      "outputs": [
        {
          "output_type": "stream",
          "name": "stdout",
          "text": [
            "Average Precision: 0.9694444444444444\n",
            "Average Recall: 0.9666666666666667\n",
            "F1 Score: 0.9664109121909632\n"
          ]
        }
      ]
    },
    {
      "cell_type": "code",
      "source": [
        "import seaborn as sns\n",
        "import matplotlib.pyplot as plt\n",
        "conf_matrix = metrics.confusion_matrix(y_test, empty_list)\n",
        "sns.heatmap(conf_matrix, annot=True, fmt='d', cmap='Blues', cbar=False)\n",
        "plt.xlabel('Predicted Labels')\n",
        "plt.ylabel('True Labels')\n",
        "plt.title('Confusion Matrix')\n",
        "plt.show()"
      ],
      "metadata": {
        "id": "Et2kIr4xcaPr",
        "colab": {
          "base_uri": "https://localhost:8080/",
          "height": 472
        },
        "outputId": "fb657330-b4d6-410f-a772-157ab0d03322"
      },
      "execution_count": 17,
      "outputs": [
        {
          "output_type": "display_data",
          "data": {
            "text/plain": [
              "<Figure size 640x480 with 1 Axes>"
            ],
            "image/png": "[encoded data removed]"
          },
          "metadata": {}
        }
      ]
    }
  ]
}